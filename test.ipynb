{
 "cells": [
  {
   "cell_type": "code",
   "execution_count": 13,
   "metadata": {},
   "outputs": [
    {
     "data": {
      "text/plain": [
       "4"
      ]
     },
     "execution_count": 13,
     "metadata": {},
     "output_type": "execute_result"
    }
   ],
   "source": [
    "import math\n",
    "def get_dis_max(args):\n",
    "    # Create a dictionary to map the datasets and hash code lengths (L) to their corresponding values\n",
    "    table = {\n",
    "        'CD_CUB2011U': {12: 3, 16: 4, 32: 10, 64: 24},\n",
    "        'CD_Car': {12: 3, 16: 4, 32: 10, 64: 24},\n",
    "        'CD_pets': {12: 4, 16: 5, 32: 12, 64: 27},\n",
    "        'CD_food': {12: 3, 16: 5, 32: 11, 64: 25},\n",
    "        'Fungi': {12: 3, 16: 4, 32: 11, 64: 25},\n",
    "        'Arachnida': {12: 4, 16: 5, 32: 11, 64: 26},\n",
    "        'Animalia': {12: 3, 16: 5, 32: 11, 64: 25},\n",
    "        'Mollusca': {12: 3, 16: 5, 32: 11, 64: 25},\n",
    "    }\n",
    "    \n",
    "    # Retrieve the dataset and hash code length from args\n",
    "    dataset = args.data_set\n",
    "    hash_code_length = args.hash_code_length\n",
    "    \n",
    "    # Return the corresponding value from the table\n",
    "    return table.get(dataset, {}).get(hash_code_length, None)\n",
    "\n",
    "# Example usage:\n",
    "class Args:\n",
    "    def __init__(self, data_set, hash_code_length):\n",
    "        self.data_set = data_set\n",
    "        self.hash_code_length = hash_code_length\n",
    "\n",
    "args = Args(\"CD_Car\", 16)\n",
    "dis_max=get_dis_max(args)\n",
    "dis_max"
   ]
  },
  {
   "cell_type": "code",
   "execution_count": 14,
   "metadata": {},
   "outputs": [
    {
     "data": {
      "text/plain": [
       "2"
      ]
     },
     "execution_count": 14,
     "metadata": {},
     "output_type": "execute_result"
    }
   ],
   "source": [
    "radius = max(math.floor(dis_max / 2), 1)\n",
    "radius"
   ]
  },
  {
   "cell_type": "code",
   "execution_count": null,
   "metadata": {},
   "outputs": [],
   "source": []
  }
 ],
 "metadata": {
  "kernelspec": {
   "display_name": "myenv",
   "language": "python",
   "name": "python3"
  },
  "language_info": {
   "codemirror_mode": {
    "name": "ipython",
    "version": 3
   },
   "file_extension": ".py",
   "mimetype": "text/x-python",
   "name": "python",
   "nbconvert_exporter": "python",
   "pygments_lexer": "ipython3",
   "version": "3.8.19"
  }
 },
 "nbformat": 4,
 "nbformat_minor": 2
}
