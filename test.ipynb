{
 "cells": [
  {
   "cell_type": "code",
   "execution_count": 4,
   "metadata": {},
   "outputs": [
    {
     "name": "stdout",
     "output_type": "stream",
     "text": [
      "d = 0, lower_sum = 64.8731689453125, upper_sum = 32.43658447265625\n",
      "2 ** L / lower_sum = 63.13858358688923, 2 ** L / upper_sum = 126.27716717377847\n",
      "d = 1, lower_sum = 129.746337890625, upper_sum = 64.8731689453125\n",
      "2 ** L / lower_sum = 31.569291793444616, 2 ** L / upper_sum = 63.13858358688923\n",
      "d = 2, lower_sum = 259.49267578125, upper_sum = 129.746337890625\n",
      "2 ** L / lower_sum = 15.784645896722308, 2 ** L / upper_sum = 31.569291793444616\n",
      "d = 3, lower_sum = 518.9853515625, upper_sum = 259.49267578125\n",
      "2 ** L / lower_sum = 7.892322948361154, 2 ** L / upper_sum = 15.784645896722308\n",
      "d = 4, lower_sum = 1037.970703125, upper_sum = 518.9853515625\n",
      "2 ** L / lower_sum = 3.946161474180577, 2 ** L / upper_sum = 7.892322948361154\n",
      "d = 5, lower_sum = 2075.94140625, upper_sum = 1037.970703125\n",
      "2 ** L / lower_sum = 1.9730807370902885, 2 ** L / upper_sum = 3.946161474180577\n",
      "d = 6, lower_sum = 4151.8828125, upper_sum = 2075.94140625\n",
      "2 ** L / lower_sum = 0.9865403685451443, 2 ** L / upper_sum = 1.9730807370902885\n",
      "d = 7, lower_sum = 8303.765625, upper_sum = 4151.8828125\n",
      "2 ** L / lower_sum = 0.49327018427257213, 2 ** L / upper_sum = 0.9865403685451443\n",
      "d = 8, lower_sum = 16607.53125, upper_sum = 8303.765625\n",
      "2 ** L / lower_sum = 0.24663509213628607, 2 ** L / upper_sum = 0.49327018427257213\n",
      "d = 9, lower_sum = 33215.0625, upper_sum = 16607.53125\n",
      "2 ** L / lower_sum = 0.12331754606814303, 2 ** L / upper_sum = 0.24663509213628607\n",
      "d = 10, lower_sum = 66430.125, upper_sum = 33215.0625\n",
      "2 ** L / lower_sum = 0.061658773034071516, 2 ** L / upper_sum = 0.12331754606814303\n",
      "d = 11, lower_sum = 132860.25, upper_sum = 66430.125\n",
      "2 ** L / lower_sum = 0.030829386517035758, 2 ** L / upper_sum = 0.061658773034071516\n",
      "d = 12, lower_sum = 265720.5, upper_sum = 132860.25\n",
      "2 ** L / lower_sum = 0.015414693258517879, 2 ** L / upper_sum = 0.030829386517035758\n",
      "The maximum d_max that satisfies the conditions is: 0\n"
     ]
    }
   ],
   "source": [
    "from scipy.special import comb\n",
    "import numpy as np\n",
    "\n",
    "def cumulative_binomial_sum(L, d):\n",
    "    \"\"\"计算从0到L的二项系数之和，每个二项系数乘以d\"\"\"\n",
    "    return sum(comb(L, i) * (2 ** (d - i)) for i in range(L + 1))\n",
    "\n",
    "def find_d_max(V_S_size, L):\n",
    "    lower_bound = 0\n",
    "    upper_bound = L  # d_max 不能大于L\n",
    "\n",
    "    # 对d_max的可能值进行迭代，从0到L，找到满足条件的最大d_max\n",
    "    for d in range(L + 1):\n",
    "        lower_sum = cumulative_binomial_sum(L, d - 1)\n",
    "        upper_sum = cumulative_binomial_sum(L, d - 2)\n",
    "        print(f\"d = {d}, lower_sum = {lower_sum}, upper_sum = {upper_sum}\")\n",
    "        print(f\"2 ** L / lower_sum = {2 ** L / lower_sum}, 2 ** L / upper_sum = {2 ** L / upper_sum}\")\n",
    "        \n",
    "        lower_condition = (V_S_size >=  ((2 ** L) / lower_sum))\n",
    "        upper_condition = (V_S_size <= ((2 ** L) / upper_sum))\n",
    "        \n",
    "        if lower_condition and upper_condition:\n",
    "            upper_bound = d  # 找到一个符合条件的d_max\n",
    "\n",
    "    return upper_bound\n",
    "\n",
    "# 示例：假设 |V_S| = 1024, L = 10\n",
    "d_max = find_d_max(100, 12)\n",
    "print(f\"The maximum d_max that satisfies the conditions is: {d_max}\")"
   ]
  },
  {
   "cell_type": "code",
   "execution_count": null,
   "metadata": {},
   "outputs": [],
   "source": [
    "from scipy.special import comb\n",
    "import math\n",
    "\n",
    "def binomial_coefficient(n, k):\n",
    "    return math.factorial(n) / (math.factorial(k) * math.factorial(n-k))\n",
    "\n",
    "def find_d_max(Y_U, L):\n",
    "    target = (2 ** L) / Y_U\n",
    "    print(f\"target = {target}\")\n",
    "\n",
    "    for d in range(2, L + 1):\n",
    "        lower_sum = binomial_coefficient(L, d - 2)\n",
    "        upper_sum = binomial_coefficient(L, d - 1)\n",
    "\n",
    "        if lower_sum <= target <= upper_sum:\n",
    "            return d\n",
    "\n",
    "    return 0\n",
    "\n"
   ]
  },
  {
   "cell_type": "code",
   "execution_count": 83,
   "metadata": {},
   "outputs": [
    {
     "name": "stdout",
     "output_type": "stream",
     "text": [
      "target = 76695844.57142857\n",
      "The maximum d_max that satisfies the conditions is: 12\n"
     ]
    }
   ],
   "source": [
    "# 示例：假设 |V_S| = 1024, L = 10\n",
    "d_max = find_d_max(56, 32)\n",
    "print(f\"The maximum d_max that satisfies the conditions is: {d_max}\")"
   ]
  },
  {
   "cell_type": "code",
   "execution_count": null,
   "metadata": {},
   "outputs": [],
   "source": []
  }
 ],
 "metadata": {
  "kernelspec": {
   "display_name": "myenv",
   "language": "python",
   "name": "python3"
  },
  "language_info": {
   "codemirror_mode": {
    "name": "ipython",
    "version": 3
   },
   "file_extension": ".py",
   "mimetype": "text/x-python",
   "name": "python",
   "nbconvert_exporter": "python",
   "pygments_lexer": "ipython3",
   "version": "3.8.19"
  }
 },
 "nbformat": 4,
 "nbformat_minor": 2
}
